{
 "cells": [
  {
   "cell_type": "code",
   "execution_count": 3,
   "metadata": {},
   "outputs": [
    {
     "name": "stdout",
     "output_type": "stream",
     "text": [
      "Detected faces: 1\n"
     ]
    }
   ],
   "source": [
    "import cv2\n",
    "import sys\n",
    "import os\n",
    "\n",
    "\n",
    "class FaceCropper(object):\n",
    "    CASCADE_PATH = \"haarcascade_frontalface_default.xml\"\n",
    "\n",
    "    def __init__(self):\n",
    "        self.face_cascade = cv2.CascadeClassifier(self.CASCADE_PATH)\n",
    "\n",
    "    def generate(self, image_path, show_result):\n",
    "        img = cv2.imread(image_path)\n",
    "        if (img is None):\n",
    "            print(\"Can't open image file\")\n",
    "            return 0\n",
    "\n",
    "        #img = cv2.cvtColor(img, cv2.COLOR_BGR2GRAY)\n",
    "        faces = self.face_cascade.detectMultiScale(img, 1.1, 3, minSize=(100, 100))\n",
    "        if (faces is None):\n",
    "            print('Failed to detect face')\n",
    "            return 0\n",
    "\n",
    "        if (show_result):\n",
    "            for (x, y, w, h) in faces:\n",
    "                cv2.rectangle(img, (x,y), (x+w, y+h), (255,0,0), 2)\n",
    "            cv2.imshow('img', img)\n",
    "            cv2.waitKey(0)\n",
    "            cv2.destroyAllWindows()\n",
    "\n",
    "        facecnt = len(faces)\n",
    "        print(\"Detected faces: %d\" % facecnt)\n",
    "        i = 0\n",
    "        height, width = img.shape[:2]\n",
    "\n",
    "        for (x, y, w, h) in faces:\n",
    "            r = max(w, h) / 2\n",
    "            centerx = x + w / 2\n",
    "            centery = y + h / 2\n",
    "            nx = int(centerx - r)\n",
    "            ny = int(centery - r)\n",
    "            nr = int(r * 2)\n",
    "\n",
    "            faceimg = img[ny:ny+nr, nx:nx+nr]\n",
    "            #lastimg = cv2.resize(faceimg, (32, 32))\n",
    "            i += 1\n",
    "            cv2.imwrite(\"image%d.png\" % i, faceimg)\n",
    "\n",
    "\n",
    "if __name__ == '__main__':\n",
    "    \"\"\"args = sys.argv\n",
    "    argc = len(args)\n",
    "\n",
    "    if (argc != 2):\n",
    "        print('Usage: %s [image file]' % args[0])\n",
    "        quit()\"\"\"\n",
    "\n",
    "    detecter = FaceCropper()\n",
    "    detecter.generate('teste.jpg', True)"
   ]
  }
 ],
 "metadata": {
  "kernelspec": {
   "display_name": "Python 3",
   "language": "python",
   "name": "python3"
  },
  "language_info": {
   "codemirror_mode": {
    "name": "ipython",
    "version": 3
   },
   "file_extension": ".py",
   "mimetype": "text/x-python",
   "name": "python",
   "nbconvert_exporter": "python",
   "pygments_lexer": "ipython3",
   "version": "3.6.5"
  }
 },
 "nbformat": 4,
 "nbformat_minor": 2
}
